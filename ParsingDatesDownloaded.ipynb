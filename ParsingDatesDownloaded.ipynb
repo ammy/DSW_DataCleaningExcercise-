{
 "cells": [
  {
   "cell_type": "code",
   "execution_count": 23,
   "metadata": {},
   "outputs": [],
   "source": [
    "#import the packages and read the data \n",
    "import pandas as pd\n",
    "import numpy as np\n",
    "import seaborn as sns\n",
    "import datetime\n",
    "import matplotlib.pyplot as plt\n",
    "\n",
    "\n",
    "\n",
    "# Important code to convert url to csv in python\n",
    "\n",
    "# import urllib.request\n",
    "\n",
    "#\n",
    "# url = 'https://storage.googleapis.com/kaggle-datasets/705/1325/database.csv?GoogleAccessId=web-data@kaggle-161607.iam.gserviceaccount.com&Expires=1526554405&Signature=EFIf2PtaOsn6b9brcMWCG5xC9U6PqFbWm8K4DPxvNdItzPY5%2Bo%2B6QucQl44QJRiL6RPXenbDy0MhOGwLwcE6QVELWVWJpKrpbUMKs%2BusjqDKD3KLC25g59RfJ4aYqy9ZzjCDRbc2H0PJUhHUdOE5dTjKtQx2QkB2Ni51CBQUOooTfZB41w96nHZt2YRlZp8G3dRhE%2F25RJGx8DG0YqqMtEVdrpR6GYxrLYrZ8ej7b7Si8vND%2FDujgTwK5QlfJ86wonTsLKlE3VkK6W6bE0batRMsJcZsn2Daknsalznfc%2B7mpKNR5nL9OPWxyBcJsLB3FCBYUudzN2q4Ue5VOUtlKw%3D%3D'\n",
    "# csv = urllib.request.urlopen(url).read() # returns type 'bytes'\n",
    "# with open('/Users/apple/Desktop/BeuthData/Beuth-Lecture-2ndSem/DataSciencApplicatons/DropData/volcanic-eruptions.csv', 'wb') as fx: # bytes, hence mode 'wb'\n",
    "#    fx.write(csv)\n",
    "#\n",
    "\n",
    "#\n",
    "# url = 'https://storage.googleapis.com/kaggle-datasets/686/1296/catalog.csv?GoogleAccessId=web-data@kaggle-161607.iam.gserviceaccount.com&Expires=1526555182&Signature=mqg%2FZwvNTt5a2QFKmRCCgRWhovBK31qQos2emuXFqJeZt5MsFw36rdreNMiSRovluIatROg1Gxo%2FGcjUQDEP1Cnun76dMhDpMURdhNddZYiX62VC%2FaRz7w%2B4Qb1x4jM1wojTOkpBYJSSV4TEBvxoAcGWCH2mhFyUM9r%2Fujq3CPcd4oLRdc80lsbZA5QKSkXPfyaoQpfc8AYJrPNvAZ51AobgPyJ3BV%2BAAAQwRAcDnbcFze8JfAueatiZVkoapwEfsNPvSk0UXIo%2Bfdmb3ZDZe%2BEJAwcH94wZm%2BxQm1mU9gUSEHHt1zBf%2F6DFFaNHJ1SIOggYIzVxVuontI28oijT4g%3D%3D'\n",
    "# csv = urllib.request.urlopen(url).read() # returns type 'bytes'\n",
    "# with open('/Users/apple/Desktop/BeuthData/Beuth-Lecture-2ndSem/DataSciencApplicatons/DropData/landslide-events.csv', 'wb') as fx: # bytes, hence mode 'wb'\n",
    "#    fx.write(csv)\n",
    "\n",
    "# read in our data\n",
    "earthquakes = pd.read_csv(\"earthquake-database.csv\")\n",
    "landslides = pd.read_csv(\"landslide-events.csv\")\n",
    "volcanos = pd.read_csv(\"volcanic-eruptions.csv\")\n",
    "\n",
    "# set seed for reproducibility\n",
    "np.random.seed(0)\n"
   ]
  },
  {
   "cell_type": "code",
   "execution_count": 24,
   "metadata": {},
   "outputs": [
    {
     "name": "stdout",
     "output_type": "stream",
     "text": [
      "0     3/2/07\n",
      "1    3/22/07\n",
      "2     4/6/07\n",
      "3    4/14/07\n",
      "4    4/15/07\n",
      "Name: date, dtype: object\n"
     ]
    }
   ],
   "source": [
    "# print first few rows of the date column\n",
    "print(landslides['date'].head())\n"
   ]
  },
  {
   "cell_type": "code",
   "execution_count": 25,
   "metadata": {},
   "outputs": [
    {
     "name": "stdout",
     "output_type": "stream",
     "text": [
      "1688    12/7/15\n",
      "1689    2/22/16\n",
      "1690    2/23/16\n",
      "1691    2/26/16\n",
      "1692     3/2/16\n",
      "Name: date, dtype: object\n"
     ]
    }
   ],
   "source": [
    "# print last few rows of the date column\n",
    "print(landslides['date'].tail())\n"
   ]
  },
  {
   "cell_type": "code",
   "execution_count": 26,
   "metadata": {},
   "outputs": [
    {
     "data": {
      "text/plain": [
       "dtype('O')"
      ]
     },
     "execution_count": 26,
     "metadata": {},
     "output_type": "execute_result"
    }
   ],
   "source": [
    "# check the data type of our date column\n",
    "\n",
    "#A character code (one of ‘biufcmMOSUV’) identifying the general kind of data.\n",
    "\n",
    "#b\tboolean\n",
    "#i\tsigned integer\n",
    "#u\tunsigned integer\n",
    "#f\tfloating-point\n",
    "#c\tcomplex floating-point\n",
    "#m\ttimedelta\n",
    "#M\tdatetime\n",
    "#O\tobject\n",
    "#S\t(byte-)string\n",
    "#U\tUnicode\n",
    "#V\tvoid\n",
    "\n",
    "landslides['date'].dtype"
   ]
  },
  {
   "cell_type": "code",
   "execution_count": 27,
   "metadata": {
    "collapsed": true
   },
   "outputs": [],
   "source": [
    "# create a new column, date_parsed, with the parsed dates\n",
    "landslides['date_parsed'] = pd.to_datetime(landslides['date'], format = \"%m/%d/%y\")"
   ]
  },
  {
   "cell_type": "code",
   "execution_count": 28,
   "metadata": {},
   "outputs": [
    {
     "data": {
      "text/plain": [
       "0   2007-03-02\n",
       "1   2007-03-22\n",
       "2   2007-04-06\n",
       "3   2007-04-14\n",
       "4   2007-04-15\n",
       "Name: date_parsed, dtype: datetime64[ns]"
      ]
     },
     "execution_count": 28,
     "metadata": {},
     "output_type": "execute_result"
    }
   ],
   "source": [
    "# print the first few rows\n",
    "landslides['date_parsed'].head()"
   ]
  },
  {
   "cell_type": "code",
   "execution_count": 29,
   "metadata": {},
   "outputs": [
    {
     "data": {
      "text/plain": [
       "1688   2015-12-07\n",
       "1689   2016-02-22\n",
       "1690   2016-02-23\n",
       "1691   2016-02-26\n",
       "1692   2016-03-02\n",
       "Name: date_parsed, dtype: datetime64[ns]"
      ]
     },
     "execution_count": 29,
     "metadata": {},
     "output_type": "execute_result"
    }
   ],
   "source": [
    "# print the last few rows\n",
    "landslides['date_parsed'].tail()"
   ]
  },
  {
   "cell_type": "code",
   "execution_count": 30,
   "metadata": {},
   "outputs": [
    {
     "data": {
      "text/plain": [
       "0         3/2/07\n",
       "1        3/22/07\n",
       "2         4/6/07\n",
       "3        4/14/07\n",
       "4        4/15/07\n",
       "5        4/20/07\n",
       "6        4/24/07\n",
       "7        5/21/07\n",
       "8        6/27/07\n",
       "9        6/27/07\n",
       "10       6/27/07\n",
       "11        7/1/07\n",
       "12        7/4/07\n",
       "13        7/8/07\n",
       "14       7/13/07\n",
       "15       7/24/07\n",
       "16        8/9/07\n",
       "17       8/11/07\n",
       "18       8/14/07\n",
       "19       8/17/07\n",
       "20       8/18/07\n",
       "21       8/18/07\n",
       "22       8/18/07\n",
       "23       8/19/07\n",
       "24       8/19/07\n",
       "25       8/20/07\n",
       "26       8/21/07\n",
       "27       8/21/07\n",
       "28       8/23/07\n",
       "29        9/1/07\n",
       "          ...   \n",
       "1663     9/17/15\n",
       "1664     9/10/15\n",
       "1665     8/31/15\n",
       "1666     8/31/15\n",
       "1667     9/22/15\n",
       "1668      5/9/15\n",
       "1669     5/23/15\n",
       "1670    10/21/15\n",
       "1671    10/21/15\n",
       "1672     9/12/15\n",
       "1673    10/15/15\n",
       "1674     2/24/16\n",
       "1675     2/24/16\n",
       "1676     2/15/16\n",
       "1677     2/24/16\n",
       "1678     2/21/16\n",
       "1679     2/24/16\n",
       "1680     1/28/16\n",
       "1681     2/24/16\n",
       "1682     2/27/16\n",
       "1683     2/27/16\n",
       "1684     2/14/16\n",
       "1685     2/26/16\n",
       "1686     2/27/16\n",
       "1687    11/29/15\n",
       "1688     12/7/15\n",
       "1689     2/22/16\n",
       "1690     2/23/16\n",
       "1691     2/26/16\n",
       "1692      3/2/16\n",
       "Name: date, Length: 1693, dtype: object"
      ]
     },
     "execution_count": 30,
     "metadata": {},
     "output_type": "execute_result"
    }
   ],
   "source": [
    "## Convert our date columns to datetime\n",
    "# * 1/17/07 has the format \"%m/%d/%y\"\n",
    "#* 17-1-2007 has the format \"%d-%m-%Y\"\n",
    "# create a new column, date_parsed, with the parsed dates\n",
    "landslides['date_parsed'] = pd.to_datetime(landslides['date'], format = \"%m/%d/%y\")\n",
    "landslides['date']"
   ]
  },
  {
   "cell_type": "code",
   "execution_count": 33,
   "metadata": {},
   "outputs": [
    {
     "name": "stdout",
     "output_type": "stream",
     "text": [
      "0   2007-03-02\n",
      "1   2007-03-22\n",
      "2   2007-04-06\n",
      "3   2007-04-14\n",
      "4   2007-04-15\n",
      "Name: date_parsed, dtype: datetime64[ns]\n",
      "1688   2015-12-07\n",
      "1689   2016-02-22\n",
      "1690   2016-02-23\n",
      "1691   2016-02-26\n",
      "1692   2016-03-02\n",
      "Name: date_parsed, dtype: datetime64[ns]\n"
     ]
    }
   ],
   "source": [
    "#check that data type is datetime64 instead of object \n",
    "print(landslides['date_parsed'].head())\n",
    "\n",
    "print(landslides['date_parsed'].tail())"
   ]
  },
  {
   "cell_type": "code",
   "execution_count": 37,
   "metadata": {},
   "outputs": [
    {
     "data": {
      "text/html": [
       "<div>\n",
       "<style>\n",
       "    .dataframe thead tr:only-child th {\n",
       "        text-align: right;\n",
       "    }\n",
       "\n",
       "    .dataframe thead th {\n",
       "        text-align: left;\n",
       "    }\n",
       "\n",
       "    .dataframe tbody tr th {\n",
       "        vertical-align: top;\n",
       "    }\n",
       "</style>\n",
       "<table border=\"1\" class=\"dataframe\">\n",
       "  <thead>\n",
       "    <tr style=\"text-align: right;\">\n",
       "      <th></th>\n",
       "      <th>Date</th>\n",
       "      <th>Time</th>\n",
       "      <th>Latitude</th>\n",
       "      <th>Longitude</th>\n",
       "      <th>Type</th>\n",
       "      <th>Depth</th>\n",
       "      <th>Depth Error</th>\n",
       "      <th>Depth Seismic Stations</th>\n",
       "      <th>Magnitude</th>\n",
       "      <th>Magnitude Type</th>\n",
       "      <th>...</th>\n",
       "      <th>Horizontal Distance</th>\n",
       "      <th>Horizontal Error</th>\n",
       "      <th>Root Mean Square</th>\n",
       "      <th>ID</th>\n",
       "      <th>Source</th>\n",
       "      <th>Location Source</th>\n",
       "      <th>Magnitude Source</th>\n",
       "      <th>Status</th>\n",
       "      <th>date_parsed</th>\n",
       "      <th>Date_parsed</th>\n",
       "    </tr>\n",
       "  </thead>\n",
       "  <tbody>\n",
       "    <tr>\n",
       "      <th>3378</th>\n",
       "      <td>02/23/1975</td>\n",
       "      <td>1975-02-23T02:58:41.000Z</td>\n",
       "      <td>8.017</td>\n",
       "      <td>124.075</td>\n",
       "      <td>Earthquake</td>\n",
       "      <td>623.0</td>\n",
       "      <td>NaN</td>\n",
       "      <td>NaN</td>\n",
       "      <td>5.6</td>\n",
       "      <td>MB</td>\n",
       "      <td>...</td>\n",
       "      <td>NaN</td>\n",
       "      <td>NaN</td>\n",
       "      <td>NaN</td>\n",
       "      <td>USP0000A09</td>\n",
       "      <td>US</td>\n",
       "      <td>US</td>\n",
       "      <td>US</td>\n",
       "      <td>Reviewed</td>\n",
       "      <td>1975-02-23</td>\n",
       "      <td>1975-02-23</td>\n",
       "    </tr>\n",
       "    <tr>\n",
       "      <th>7512</th>\n",
       "      <td>04/28/1985</td>\n",
       "      <td>1985-04-28T02:53:41.530Z</td>\n",
       "      <td>-32.998</td>\n",
       "      <td>-71.766</td>\n",
       "      <td>Earthquake</td>\n",
       "      <td>33.0</td>\n",
       "      <td>NaN</td>\n",
       "      <td>NaN</td>\n",
       "      <td>5.6</td>\n",
       "      <td>MW</td>\n",
       "      <td>...</td>\n",
       "      <td>NaN</td>\n",
       "      <td>NaN</td>\n",
       "      <td>1.30</td>\n",
       "      <td>USP0002E81</td>\n",
       "      <td>US</td>\n",
       "      <td>US</td>\n",
       "      <td>HRV</td>\n",
       "      <td>Reviewed</td>\n",
       "      <td>1985-04-28</td>\n",
       "      <td>1985-04-28</td>\n",
       "    </tr>\n",
       "    <tr>\n",
       "      <th>20650</th>\n",
       "      <td>03/13/2011</td>\n",
       "      <td>2011-03-13T02:23:34.520Z</td>\n",
       "      <td>36.344</td>\n",
       "      <td>142.344</td>\n",
       "      <td>Earthquake</td>\n",
       "      <td>10.1</td>\n",
       "      <td>13.9</td>\n",
       "      <td>289.0</td>\n",
       "      <td>5.8</td>\n",
       "      <td>MWC</td>\n",
       "      <td>...</td>\n",
       "      <td>NaN</td>\n",
       "      <td>NaN</td>\n",
       "      <td>1.06</td>\n",
       "      <td>USP000HWQP</td>\n",
       "      <td>US</td>\n",
       "      <td>US</td>\n",
       "      <td>GCMT</td>\n",
       "      <td>Reviewed</td>\n",
       "      <td>2011-03-13</td>\n",
       "      <td>2011-03-13</td>\n",
       "    </tr>\n",
       "  </tbody>\n",
       "</table>\n",
       "<p>3 rows × 23 columns</p>\n",
       "</div>"
      ],
      "text/plain": [
       "             Date                      Time  Latitude  Longitude        Type  \\\n",
       "3378   02/23/1975  1975-02-23T02:58:41.000Z     8.017    124.075  Earthquake   \n",
       "7512   04/28/1985  1985-04-28T02:53:41.530Z   -32.998    -71.766  Earthquake   \n",
       "20650  03/13/2011  2011-03-13T02:23:34.520Z    36.344    142.344  Earthquake   \n",
       "\n",
       "       Depth  Depth Error  Depth Seismic Stations  Magnitude Magnitude Type  \\\n",
       "3378   623.0          NaN                     NaN        5.6             MB   \n",
       "7512    33.0          NaN                     NaN        5.6             MW   \n",
       "20650   10.1         13.9                   289.0        5.8            MWC   \n",
       "\n",
       "          ...      Horizontal Distance  Horizontal Error  Root Mean Square  \\\n",
       "3378      ...                      NaN               NaN               NaN   \n",
       "7512      ...                      NaN               NaN              1.30   \n",
       "20650     ...                      NaN               NaN              1.06   \n",
       "\n",
       "               ID  Source  Location Source Magnitude Source    Status  \\\n",
       "3378   USP0000A09      US               US               US  Reviewed   \n",
       "7512   USP0002E81      US               US              HRV  Reviewed   \n",
       "20650  USP000HWQP      US               US             GCMT  Reviewed   \n",
       "\n",
       "      date_parsed Date_parsed  \n",
       "3378   1975-02-23  1975-02-23  \n",
       "7512   1985-04-28  1985-04-28  \n",
       "20650  2011-03-13  2011-03-13  \n",
       "\n",
       "[3 rows x 23 columns]"
      ]
     },
     "metadata": {},
     "output_type": "display_data"
    },
    {
     "data": {
      "text/html": [
       "<div>\n",
       "<style>\n",
       "    .dataframe thead tr:only-child th {\n",
       "        text-align: right;\n",
       "    }\n",
       "\n",
       "    .dataframe thead th {\n",
       "        text-align: left;\n",
       "    }\n",
       "\n",
       "    .dataframe tbody tr th {\n",
       "        vertical-align: top;\n",
       "    }\n",
       "</style>\n",
       "<table border=\"1\" class=\"dataframe\">\n",
       "  <thead>\n",
       "    <tr style=\"text-align: right;\">\n",
       "      <th></th>\n",
       "      <th>Date</th>\n",
       "      <th>Time</th>\n",
       "      <th>Latitude</th>\n",
       "      <th>Longitude</th>\n",
       "      <th>Type</th>\n",
       "      <th>Depth</th>\n",
       "      <th>Depth Error</th>\n",
       "      <th>Depth Seismic Stations</th>\n",
       "      <th>Magnitude</th>\n",
       "      <th>Magnitude Type</th>\n",
       "      <th>...</th>\n",
       "      <th>Horizontal Distance</th>\n",
       "      <th>Horizontal Error</th>\n",
       "      <th>Root Mean Square</th>\n",
       "      <th>ID</th>\n",
       "      <th>Source</th>\n",
       "      <th>Location Source</th>\n",
       "      <th>Magnitude Source</th>\n",
       "      <th>Status</th>\n",
       "      <th>date_parsed</th>\n",
       "      <th>Date_parsed</th>\n",
       "    </tr>\n",
       "  </thead>\n",
       "  <tbody>\n",
       "    <tr>\n",
       "      <th>3378</th>\n",
       "      <td>02/23/1975</td>\n",
       "      <td>1975-02-23T02:58:41.000Z</td>\n",
       "      <td>8.017</td>\n",
       "      <td>124.075</td>\n",
       "      <td>Earthquake</td>\n",
       "      <td>623.0</td>\n",
       "      <td>NaN</td>\n",
       "      <td>NaN</td>\n",
       "      <td>5.6</td>\n",
       "      <td>MB</td>\n",
       "      <td>...</td>\n",
       "      <td>NaN</td>\n",
       "      <td>NaN</td>\n",
       "      <td>NaN</td>\n",
       "      <td>USP0000A09</td>\n",
       "      <td>US</td>\n",
       "      <td>US</td>\n",
       "      <td>US</td>\n",
       "      <td>Reviewed</td>\n",
       "      <td>1975-02-23</td>\n",
       "      <td>1975-02-23</td>\n",
       "    </tr>\n",
       "    <tr>\n",
       "      <th>7512</th>\n",
       "      <td>04/28/1985</td>\n",
       "      <td>1985-04-28T02:53:41.530Z</td>\n",
       "      <td>-32.998</td>\n",
       "      <td>-71.766</td>\n",
       "      <td>Earthquake</td>\n",
       "      <td>33.0</td>\n",
       "      <td>NaN</td>\n",
       "      <td>NaN</td>\n",
       "      <td>5.6</td>\n",
       "      <td>MW</td>\n",
       "      <td>...</td>\n",
       "      <td>NaN</td>\n",
       "      <td>NaN</td>\n",
       "      <td>1.30</td>\n",
       "      <td>USP0002E81</td>\n",
       "      <td>US</td>\n",
       "      <td>US</td>\n",
       "      <td>HRV</td>\n",
       "      <td>Reviewed</td>\n",
       "      <td>1985-04-28</td>\n",
       "      <td>1985-04-28</td>\n",
       "    </tr>\n",
       "    <tr>\n",
       "      <th>20650</th>\n",
       "      <td>03/13/2011</td>\n",
       "      <td>2011-03-13T02:23:34.520Z</td>\n",
       "      <td>36.344</td>\n",
       "      <td>142.344</td>\n",
       "      <td>Earthquake</td>\n",
       "      <td>10.1</td>\n",
       "      <td>13.9</td>\n",
       "      <td>289.0</td>\n",
       "      <td>5.8</td>\n",
       "      <td>MWC</td>\n",
       "      <td>...</td>\n",
       "      <td>NaN</td>\n",
       "      <td>NaN</td>\n",
       "      <td>1.06</td>\n",
       "      <td>USP000HWQP</td>\n",
       "      <td>US</td>\n",
       "      <td>US</td>\n",
       "      <td>GCMT</td>\n",
       "      <td>Reviewed</td>\n",
       "      <td>2011-03-13</td>\n",
       "      <td>2011-03-13</td>\n",
       "    </tr>\n",
       "  </tbody>\n",
       "</table>\n",
       "<p>3 rows × 23 columns</p>\n",
       "</div>"
      ],
      "text/plain": [
       "             Date                      Time  Latitude  Longitude        Type  \\\n",
       "3378   02/23/1975  1975-02-23T02:58:41.000Z     8.017    124.075  Earthquake   \n",
       "7512   04/28/1985  1985-04-28T02:53:41.530Z   -32.998    -71.766  Earthquake   \n",
       "20650  03/13/2011  2011-03-13T02:23:34.520Z    36.344    142.344  Earthquake   \n",
       "\n",
       "       Depth  Depth Error  Depth Seismic Stations  Magnitude Magnitude Type  \\\n",
       "3378   623.0          NaN                     NaN        5.6             MB   \n",
       "7512    33.0          NaN                     NaN        5.6             MW   \n",
       "20650   10.1         13.9                   289.0        5.8            MWC   \n",
       "\n",
       "          ...      Horizontal Distance  Horizontal Error  Root Mean Square  \\\n",
       "3378      ...                      NaN               NaN               NaN   \n",
       "7512      ...                      NaN               NaN              1.30   \n",
       "20650     ...                      NaN               NaN              1.06   \n",
       "\n",
       "               ID  Source  Location Source Magnitude Source    Status  \\\n",
       "3378   USP0000A09      US               US               US  Reviewed   \n",
       "7512   USP0002E81      US               US              HRV  Reviewed   \n",
       "20650  USP000HWQP      US               US             GCMT  Reviewed   \n",
       "\n",
       "      date_parsed Date_parsed  \n",
       "3378   1975-02-23  1975-02-23  \n",
       "7512   1985-04-28  1985-04-28  \n",
       "20650  2011-03-13  2011-03-13  \n",
       "\n",
       "[3 rows x 23 columns]"
      ]
     },
     "metadata": {},
     "output_type": "display_data"
    },
    {
     "data": {
      "text/plain": [
       "0   1965-01-02\n",
       "1   1965-01-04\n",
       "2   1965-01-05\n",
       "3   1965-01-08\n",
       "4   1965-01-09\n",
       "Name: Date_parsed, dtype: datetime64[ns]"
      ]
     },
     "execution_count": 37,
     "metadata": {},
     "output_type": "execute_result"
    }
   ],
   "source": [
    "#with infer_datetime_format , not always recommended \n",
    "earthquakes['date_parsed'] = pd.to_datetime(earthquakes['Date'], infer_datetime_format=True)\n",
    "#or:\n",
    "\n",
    "#reformating 'Date' for 3 Dates objects \n",
    "display(earthquakes.loc[[3378, 7512, 20650]])\n",
    "earthquakes.loc[3378, 'Date']= '02/23/1975' \n",
    "earthquakes.loc[7512, 'Date']= '04/28/1985'\n",
    "earthquakes.loc[20650, 'Date']= '03/13/2011' \n",
    "#display the results for those 3 Dates objects to make sure of new format\n",
    "display(earthquakes.loc[[3378, 7512, 20650]])\n",
    "#create new column Date_parsed , parsing new format of ['Date] to ['Date_parsed']\n",
    "earthquakes['Date_parsed'] = pd.to_datetime(earthquakes['Date'],format = \"%m/%d/%Y\")\n",
    "#earthquakes['Date'].head()  #Name: Date, dtype: object\n",
    "earthquakes['Date_parsed'].head() #Name: Date_parsed, dtype: datetime64[ns]"
   ]
  },
  {
   "cell_type": "code",
   "execution_count": 38,
   "metadata": {},
   "outputs": [
    {
     "data": {
      "text/plain": [
       "0     2.0\n",
       "1    22.0\n",
       "2     6.0\n",
       "3    14.0\n",
       "4    15.0\n",
       "Name: date_parsed, dtype: float64"
      ]
     },
     "execution_count": 38,
     "metadata": {},
     "output_type": "execute_result"
    }
   ],
   "source": [
    "#it didnt work becouse dt.day words with dtype: datetime, not with object \n",
    "#and thats why we will use Date_parsed columns that we create parsed before \n",
    "day_of_month_landslides = landslides['date_parsed'].dt.day\n",
    "day_of_month_landslides.head()"
   ]
  },
  {
   "cell_type": "code",
   "execution_count": 39,
   "metadata": {},
   "outputs": [
    {
     "data": {
      "text/plain": [
       "0    2\n",
       "1    4\n",
       "2    5\n",
       "3    8\n",
       "4    9\n",
       "Name: Date_parsed, dtype: int64"
      ]
     },
     "execution_count": 39,
     "metadata": {},
     "output_type": "execute_result"
    }
   ],
   "source": [
    "# Your turn! get the day of the month from the date_parsed column - earthquakes\n",
    "day_of_month_earthquakes = earthquakes['Date_parsed'].dt.day\n",
    "day_of_month_earthquakes.head()"
   ]
  },
  {
   "cell_type": "code",
   "execution_count": 40,
   "metadata": {},
   "outputs": [
    {
     "data": {
      "text/plain": [
       "<matplotlib.axes._subplots.AxesSubplot at 0x1a0c847978>"
      ]
     },
     "execution_count": 40,
     "metadata": {},
     "output_type": "execute_result"
    }
   ],
   "source": [
    "#Plot the day of the month to check the date parsing¶\n",
    "#With a dip on 31 because not all months have 31 days.\n",
    "# remove na's\n",
    "day_of_month_landslides = day_of_month_landslides.dropna()\n",
    "\n",
    "# plot the day of the month\n",
    "sns.distplot(day_of_month_landslides, kde=False, bins=31)"
   ]
  },
  {
   "cell_type": "code",
   "execution_count": 41,
   "metadata": {},
   "outputs": [
    {
     "data": {
      "text/plain": [
       "<matplotlib.axes._subplots.AxesSubplot at 0x1a0c847978>"
      ]
     },
     "execution_count": 41,
     "metadata": {},
     "output_type": "execute_result"
    }
   ],
   "source": [
    "## Your turn! Plot the days of the month from your\n",
    "# earthquake dataset and make sure they make sense.\n",
    "    \n",
    "day_of_month_earthquakes = day_of_month_earthquakes.dropna()\n",
    "\n",
    "sns.distplot(day_of_month_earthquakes,kde=False,bins=31)"
   ]
  },
  {
   "cell_type": "code",
   "execution_count": null,
   "metadata": {
    "collapsed": true
   },
   "outputs": [],
   "source": []
  }
 ],
 "metadata": {
  "kernelspec": {
   "display_name": "Python 3",
   "language": "python",
   "name": "python3"
  },
  "language_info": {
   "codemirror_mode": {
    "name": "ipython",
    "version": 3
   },
   "file_extension": ".py",
   "mimetype": "text/x-python",
   "name": "python",
   "nbconvert_exporter": "python",
   "pygments_lexer": "ipython3",
   "version": "3.6.3"
  }
 },
 "nbformat": 4,
 "nbformat_minor": 2
}
